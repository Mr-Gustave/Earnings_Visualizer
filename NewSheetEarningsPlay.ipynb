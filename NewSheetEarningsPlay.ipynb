{
 "cells": [
  {
   "cell_type": "code",
   "execution_count": 46,
   "metadata": {},
   "outputs": [],
   "source": [
    "import gspread\n",
    "from oauth2client.service_account import ServiceAccountCredentials\n",
    "import pandas as pd\n",
    "from googleapiclient.discovery import build\n",
    "from google.oauth2.service_account import Credentials\n"
   ]
  },
  {
   "cell_type": "code",
   "execution_count": null,
   "metadata": {},
   "outputs": [],
   "source": [
    "color_to_day = {\n",
    "    (0.62352943, 0.77254903, 0.9098039): \"Tuesday\",\n",
    "    (0.7058824, 0.654902, 0.8392157): \"Wednesday\",\n",
    "    (0.5764706, 0.76862746, 0.49019608): \"Thursday\",\n",
    "    (0.91764706, 0.6, 0.6): \"Friday\",\n",
    "}"
   ]
  },
  {
   "cell_type": "code",
   "execution_count": 47,
   "metadata": {},
   "outputs": [],
   "source": [
    "# Yetkilendirme\n",
    "SHEET_ID = \"19M06LpwDMRQzBgTAewlN8aq300ukLw1xVC-ObX1vcgw\"  # senin dosyanın ID'si\n",
    "SCOPES = ['https://www.googleapis.com/auth/spreadsheets.readonly']\n",
    "creds = Credentials.from_service_account_file('earningsplaynewsheet-748c7181e867.json', scopes=SCOPES)\n",
    "service = build('sheets', 'v4', credentials=creds)\n",
    "\n",
    "# Spreadsheet aç\n",
    "spreadsheet = service.spreadsheets().get(spreadsheetId=SHEET_ID).execute()\n",
    "sheet_titles = [sheet['properties']['title'] for sheet in spreadsheet['sheets']]\n",
    "\n",
    "# Sadece tarih olan sheetleri ayır\n",
    "import re\n",
    "weekly_sheet_titles = [title for title in sheet_titles if re.match(r\"\\d{2}/\\d{2}/\\d{4}\", title)]"
   ]
  },
  {
   "cell_type": "code",
   "execution_count": 48,
   "metadata": {},
   "outputs": [],
   "source": [
    "def read_weekly_sheet(sheet_name):\n",
    "    # Sheet verisini çek\n",
    "    sheet = service.spreadsheets().get(\n",
    "        spreadsheetId=SHEET_ID,\n",
    "        ranges=sheet_name,\n",
    "        fields=\"sheets.data.rowData.values.effectiveFormat.backgroundColor,sheets.data.rowData.values.formattedValue\",\n",
    "        includeGridData=True\n",
    "    ).execute()\n",
    "    \n",
    "    grid_data = sheet['sheets'][0]['data'][0]['rowData']\n",
    "    \n",
    "    # Data ve renkleri topla\n",
    "    data = []\n",
    "    for idx, row in enumerate(grid_data):\n",
    "        if 'values' in row and len(row['values']) > 0:\n",
    "            cells = row['values']\n",
    "            if len(cells) < 1 or not cells[0].get('formattedValue', '').strip():\n",
    "                continue\n",
    "\n",
    "            ticker = cells[0].get('formattedValue', '').strip()\n",
    "            company_name = cells[1].get('formattedValue', '').strip() if len(cells) > 1 else ''\n",
    "            price = cells[2].get('formattedValue', '').strip() if len(cells) > 2 else ''\n",
    "            total_move = cells[3].get('formattedValue', '').strip() if len(cells) > 3 else ''\n",
    "            move_pct = cells[4].get('formattedValue', '').strip() if len(cells) > 4 else ''\n",
    "            \n",
    "            # Arka plan rengi\n",
    "            color = cells[0].get('effectiveFormat', {}).get('backgroundColor', {})\n",
    "            r = round(color.get('red', 1.0), 7)\n",
    "            g = round(color.get('green', 1.0), 7)\n",
    "            b = round(color.get('blue', 1.0), 7)\n",
    "            rgb = (r, g, b)\n",
    "\n",
    "            data.append({\n",
    "                'Row': idx+1,\n",
    "                'Ticker': ticker,\n",
    "                'Company Name': company_name,\n",
    "                'Price': price,\n",
    "                'Total Move': total_move,\n",
    "                'Move %': move_pct,\n",
    "                'Color': rgb\n",
    "            })\n",
    "    \n",
    "    df = pd.DataFrame(data)\n",
    "    return df"
   ]
  },
  {
   "cell_type": "code",
   "execution_count": 49,
   "metadata": {},
   "outputs": [],
   "source": [
    "color_to_day = {\n",
    "    (0.6235294, 0.772549, 0.9098039): \"Tuesday\",\n",
    "    (0.7058824, 0.654902, 0.8392157): \"Wednesday\",\n",
    "    (0.5764706, 0.76862746, 0.49019608): \"Thursday\",\n",
    "    (0.91764706, 0.6, 0.6): \"Friday\",\n",
    "}"
   ]
  },
  {
   "cell_type": "code",
   "execution_count": 50,
   "metadata": {},
   "outputs": [],
   "source": [
    "def find_day_from_color(rgb):\n",
    "    for key, day in color_to_day.items():\n",
    "        if all(abs(c1 - c2) < 0.02 for c1, c2 in zip(rgb, key)):\n",
    "            return day\n",
    "    return None"
   ]
  },
  {
   "cell_type": "code",
   "execution_count": 63,
   "metadata": {},
   "outputs": [],
   "source": [
    "def build_master_rows(weekly_df, week_start):\n",
    "    master_rows = []\n",
    "\n",
    "    for _, row in weekly_df.iterrows():\n",
    "        ticker = row['Ticker']\n",
    "        company_name = row['Company Name']\n",
    "        price = row['Price']\n",
    "        total_move = row['Total Move']\n",
    "        move_pct = row['Move %']\n",
    "        color = row['Color']\n",
    "        \n",
    "        weekday = find_day_from_color(color)\n",
    "        \n",
    "        if weekday is None:\n",
    "            continue  # Gün bulunamıyorsa geç\n",
    "        \n",
    "        day_to_delta = {\n",
    "            \"Tuesday\": 1,\n",
    "            \"Wednesday\": 2,\n",
    "            \"Thursday\": 3,\n",
    "            \"Friday\": 4,\n",
    "        }\n",
    "        delta_days = day_to_delta.get(weekday, None)\n",
    "        if delta_days is None:\n",
    "            continue\n",
    "\n",
    "        report_date = pd.to_datetime(week_start, dayfirst=True) + pd.Timedelta(days=delta_days)\n",
    "\n",
    "                # Sadece tarih kısmını alıyoruz\n",
    "        report_date_only = report_date.date()  # `date()` metodu ile saat kısmını çıkarıyoruz\n",
    "\n",
    "        master_rows.append({\n",
    "            'Week': week_start,\n",
    "            'Ticker': ticker,\n",
    "            'Company Name': company_name,\n",
    "            'Price': price,\n",
    "            'Total Move': total_move,\n",
    "            'Move %': move_pct,\n",
    "            'Weekday Reported': weekday,\n",
    "            'Report_Date': report_date_only  # ⚡⚡ DİKKAT: Burada artık strftime yok\n",
    "        })\n",
    "\n",
    "    return master_rows"
   ]
  },
  {
   "cell_type": "code",
   "execution_count": 66,
   "metadata": {},
   "outputs": [
    {
     "name": "stdout",
     "output_type": "stream",
     "text": [
      "Processing week: 21/04/2025\n",
      "Processing week: 14/04/2025\n",
      "Processing week: 07/04/2025\n",
      "Processing week: 31/03/2025\n",
      "Processing week: 24/03/2025\n",
      "Processing week: 17/03/2025\n",
      "Processing week: 10/03/2025\n",
      "Processing week: 03/03/2025\n",
      "Processing week: 24/02/2025\n",
      "Processing week: 17/02/2025\n",
      "Processing week: 10/02/2025\n",
      "Processing week: 03/02/2025\n",
      "Processing week: 27/01/2025\n",
      "Processing week: 20/01/2025\n",
      "Processing week: 13/01/2025\n",
      "Processing week: 06/01/2025\n"
     ]
    }
   ],
   "source": [
    "all_master_rows = []\n",
    "\n",
    "for weekly_title in weekly_sheet_titles:\n",
    "    print(f\"Processing week: {weekly_title}\")\n",
    "    weekly_df = read_weekly_sheet(weekly_title)\n",
    "    week_rows = build_master_rows(weekly_df, weekly_title)\n",
    "    all_master_rows.extend(week_rows)\n",
    "\n",
    "# Şimdi tüm satırları DataFrame yapalım\n",
    "master_df = pd.DataFrame(all_master_rows)"
   ]
  },
  {
   "cell_type": "code",
   "execution_count": null,
   "metadata": {},
   "outputs": [],
   "source": [
    "# Yeni haftayı oku\n",
    "new_week_title = \"29/04/2025\"  # Örneğin\n",
    "new_week_df = read_weekly_sheet(new_week_title)\n",
    "new_week_rows = build_master_rows(new_week_df, new_week_title)\n",
    "\n",
    "# Yeni haftayı eski master'a ekle\n",
    "new_rows_df = pd.DataFrame(new_week_rows)\n",
    "master_df = pd.concat([master_df, new_rows_df], ignore_index=True)"
   ]
  },
  {
   "cell_type": "code",
   "execution_count": 67,
   "metadata": {},
   "outputs": [],
   "source": [
    "import gspread\n",
    "from gspread_dataframe import set_with_dataframe\n",
    "\n",
    "# Yetkilendirme\n",
    "scope = [\"https://spreadsheets.google.com/feeds\", \"https://www.googleapis.com/auth/drive\"]\n",
    "creds = ServiceAccountCredentials.from_json_keyfile_name(\"earningsplaynewsheet-748c7181e867.json\", scope)\n",
    "client = gspread.authorize(creds)\n",
    "\n",
    "# Spreadsheet aç\n",
    "spreadsheet = client.open_by_key(\"19M06LpwDMRQzBgTAewlN8aq300ukLw1xVC-ObX1vcgw\")\n",
    "\n",
    "# Master2025 tabını seç (veya oluştur)\n",
    "try:\n",
    "    master_sheet = spreadsheet.worksheet(\"Master2025\")\n",
    "    master_sheet.clear()\n",
    "except:\n",
    "    master_sheet = spreadsheet.add_worksheet(title=\"Master2025\", rows=\"1000\", cols=\"20\")\n",
    "\n",
    "# DataFrame'i Master2025 tabına yaz\n",
    "set_with_dataframe(master_sheet, master_df)"
   ]
  }
 ],
 "metadata": {
  "kernelspec": {
   "display_name": "Python 3",
   "language": "python",
   "name": "python3"
  },
  "language_info": {
   "codemirror_mode": {
    "name": "ipython",
    "version": 3
   },
   "file_extension": ".py",
   "mimetype": "text/x-python",
   "name": "python",
   "nbconvert_exporter": "python",
   "pygments_lexer": "ipython3",
   "version": "3.9.6"
  }
 },
 "nbformat": 4,
 "nbformat_minor": 2
}

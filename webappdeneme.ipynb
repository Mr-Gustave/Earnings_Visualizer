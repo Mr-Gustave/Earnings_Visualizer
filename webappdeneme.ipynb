{
 "cells": [
  {
   "cell_type": "code",
   "execution_count": 1,
   "metadata": {},
   "outputs": [
    {
     "name": "stdout",
     "output_type": "stream",
     "text": [
      "hi!\n"
     ]
    }
   ],
   "source": [
    "print(\"hi!\")"
   ]
  },
  {
   "cell_type": "code",
   "execution_count": 2,
   "metadata": {},
   "outputs": [
    {
     "name": "stderr",
     "output_type": "stream",
     "text": [
      "2025-05-02 14:37:00.437 WARNING streamlit.runtime.scriptrunner_utils.script_run_context: Thread 'MainThread': missing ScriptRunContext! This warning can be ignored when running in bare mode.\n",
      "2025-05-02 14:37:00.588 \n",
      "  \u001b[33m\u001b[1mWarning:\u001b[0m to view this Streamlit app on a browser, run it with the following\n",
      "  command:\n",
      "\n",
      "    streamlit run /Users/barisyuksek/Library/Python/3.9/lib/python/site-packages/ipykernel_launcher.py [ARGUMENTS]\n",
      "2025-05-02 14:37:00.589 Thread 'MainThread': missing ScriptRunContext! This warning can be ignored when running in bare mode.\n",
      "2025-05-02 14:37:00.589 Thread 'MainThread': missing ScriptRunContext! This warning can be ignored when running in bare mode.\n",
      "2025-05-02 14:37:00.590 Thread 'MainThread': missing ScriptRunContext! This warning can be ignored when running in bare mode.\n",
      "2025-05-02 14:37:00.590 Thread 'MainThread': missing ScriptRunContext! This warning can be ignored when running in bare mode.\n",
      "2025-05-02 14:37:00.591 Thread 'MainThread': missing ScriptRunContext! This warning can be ignored when running in bare mode.\n",
      "2025-05-02 14:37:00.591 Session state does not function when running a script without `streamlit run`\n",
      "2025-05-02 14:37:00.591 Thread 'MainThread': missing ScriptRunContext! This warning can be ignored when running in bare mode.\n",
      "2025-05-02 14:37:00.591 Thread 'MainThread': missing ScriptRunContext! This warning can be ignored when running in bare mode.\n",
      "2025-05-02 14:37:00.592 Thread 'MainThread': missing ScriptRunContext! This warning can be ignored when running in bare mode.\n",
      "2025-05-02 14:37:00.592 Thread 'MainThread': missing ScriptRunContext! This warning can be ignored when running in bare mode.\n",
      "2025-05-02 14:37:00.592 Thread 'MainThread': missing ScriptRunContext! This warning can be ignored when running in bare mode.\n",
      "2025-05-02 14:37:00.593 Thread 'MainThread': missing ScriptRunContext! This warning can be ignored when running in bare mode.\n",
      "2025-05-02 14:37:00.593 Thread 'MainThread': missing ScriptRunContext! This warning can be ignored when running in bare mode.\n",
      "2025-05-02 14:37:00.593 Thread 'MainThread': missing ScriptRunContext! This warning can be ignored when running in bare mode.\n",
      "2025-05-02 14:37:00.594 Thread 'MainThread': missing ScriptRunContext! This warning can be ignored when running in bare mode.\n",
      "2025-05-02 14:37:00.594 Thread 'MainThread': missing ScriptRunContext! This warning can be ignored when running in bare mode.\n",
      "2025-05-02 14:37:00.595 Thread 'MainThread': missing ScriptRunContext! This warning can be ignored when running in bare mode.\n",
      "2025-05-02 14:37:00.595 Thread 'MainThread': missing ScriptRunContext! This warning can be ignored when running in bare mode.\n",
      "2025-05-02 14:37:00.596 Thread 'MainThread': missing ScriptRunContext! This warning can be ignored when running in bare mode.\n"
     ]
    }
   ],
   "source": [
    "import streamlit as st\n",
    "import yfinance as yf\n",
    "import pandas as pd\n",
    "import matplotlib.pyplot as plt\n",
    "\n",
    "st.title(\"📊 Earnings Reaction Chart\")\n",
    "\n",
    "ticker = st.selectbox(\"Select Ticker\", [\"AAPL\", \"MSFT\", \"NVDA\"])\n",
    "earnings_date = st.date_input(\"Select Earnings Date\")\n",
    "\n",
    "if st.button(\"Generate Chart\"):\n",
    "    data = yf.download(ticker, period=\"6mo\")\n",
    "    earnings_ts = pd.to_datetime(earnings_date)\n",
    "    trading_day = data.index[data.index.get_indexer([earnings_ts], method='nearest')[0]]\n",
    "    \n",
    "    window = 60\n",
    "    start = trading_day - pd.Timedelta(days=window)\n",
    "    end = trading_day + pd.Timedelta(days=window)\n",
    "    subset = data[(data.index >= start) & (data.index <= end)].copy()\n",
    "    subset[\"Relative_Days\"] = (subset.index - trading_day).days\n",
    "    \n",
    "    fig, ax = plt.subplots(figsize=(12, 5))\n",
    "    for idx, row in subset.iterrows():\n",
    "        color = 'green' if row['Close'] >= row['Open'] else 'red'\n",
    "        ax.plot([row['Relative_Days']] * 2, [row['Low'], row['High']], color=color)\n",
    "        ax.plot([row['Relative_Days']] * 2, [row['Open'], row['Close']], color=color, linewidth=5)\n",
    "    \n",
    "    subset[\"MA7\"] = subset[\"Close\"].rolling(7).mean()\n",
    "    ax.plot(subset[\"Relative_Days\"], subset[\"MA7\"], color='blue', label=\"7-Day MA\")\n",
    "    ax.axvline(0, color='red', linestyle='--')\n",
    "    \n",
    "    ax.set_xticks(range(-60, 61, 10))\n",
    "    ax.set_title(f\"{ticker} Earnings Chart\")\n",
    "    ax.set_xlabel(\"Relative Days\")\n",
    "    ax.set_ylabel(\"Price ($)\")\n",
    "    ax.legend()\n",
    "    ax.grid(True)\n",
    "    \n",
    "    st.pyplot(fig)"
   ]
  }
 ],
 "metadata": {
  "kernelspec": {
   "display_name": "Python 3",
   "language": "python",
   "name": "python3"
  },
  "language_info": {
   "codemirror_mode": {
    "name": "ipython",
    "version": 3
   },
   "file_extension": ".py",
   "mimetype": "text/x-python",
   "name": "python",
   "nbconvert_exporter": "python",
   "pygments_lexer": "ipython3",
   "version": "3.9.6"
  }
 },
 "nbformat": 4,
 "nbformat_minor": 2
}
